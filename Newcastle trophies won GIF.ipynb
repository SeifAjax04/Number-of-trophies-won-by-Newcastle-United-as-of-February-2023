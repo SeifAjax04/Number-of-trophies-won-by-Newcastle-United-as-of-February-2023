{
 "cells": [
  {
   "cell_type": "code",
   "execution_count": null,
   "metadata": {},
   "outputs": [],
   "source": [
    "pip install nbformat"
   ]
  },
  {
   "cell_type": "code",
   "execution_count": null,
   "metadata": {},
   "outputs": [],
   "source": [
    "pip install plotly"
   ]
  },
  {
   "cell_type": "code",
   "execution_count": null,
   "metadata": {},
   "outputs": [],
   "source": [
    "pip install ipywidgets"
   ]
  },
  {
   "cell_type": "code",
   "execution_count": null,
   "metadata": {},
   "outputs": [],
   "source": [
    "import plotly.graph_objects as go\n",
    "from plotly.subplots import make_subplots\n",
    "from ipywidgets import interact, widgets\n",
    "from IPython.display import display\n",
    "\n",
    "# Data\n",
    "competitions = ['FA Cup', 'English Football\\n Champions', 'English Second-tier\\n Champions', 'Inter-Cities\\n Fairs Cup', 'FA Charity\\n Shield']\n",
    "trophies = [6, 4, 4, 1, 1]\n",
    "\n",
    "# Define colors for each trophy\n",
    "trophy_colors = ['dimgrey', 'black', 'grey', 'silver', 'gainsboro']\n",
    "\n",
    "# Create figure\n",
    "def update_plot(num_trophies):\n",
    "    fig = make_subplots(rows=1, cols=1)\n",
    "\n",
    "    # Add horizontal bar trace\n",
    "    fig.add_trace(go.Bar(\n",
    "        y=competitions[:num_trophies],\n",
    "        x=trophies[:num_trophies],\n",
    "        orientation='h',\n",
    "        marker=dict(color=trophy_colors[:num_trophies]),\n",
    "        text=trophies[:num_trophies],\n",
    "        textposition='auto',\n",
    "    ))\n",
    "\n",
    "    # Update layout\n",
    "    fig.update_layout(\n",
    "        title='Number of Trophies won by Newcastle United by Competition\\n (as of February 2023)',\n",
    "        xaxis_title='Number of Trophies',\n",
    "        yaxis=dict(autorange=\"reversed\"),  # Invert y-axis\n",
    "        height=600,\n",
    "        width=900,\n",
    "    )\n",
    "\n",
    "    fig.show()\n",
    "\n",
    "# Define interactive widget\n",
    "num_trophies_widget = widgets.IntSlider(value=5, min=1, max=len(competitions), step=1, description='Number of Trophies:', continuous_update=False)\n",
    "\n",
    "# Display interactive widget and chart\n",
    "interact(update_plot, num_trophies=num_trophies_widget);\n",
    "\n"
   ]
  }
 ],
 "metadata": {
  "kernelspec": {
   "display_name": "Python 3",
   "language": "python",
   "name": "python3"
  },
  "language_info": {
   "codemirror_mode": {
    "name": "ipython",
    "version": 3
   },
   "file_extension": ".py",
   "mimetype": "text/x-python",
   "name": "python",
   "nbconvert_exporter": "python",
   "pygments_lexer": "ipython3",
   "version": "3.8.9"
  }
 },
 "nbformat": 4,
 "nbformat_minor": 2
}
